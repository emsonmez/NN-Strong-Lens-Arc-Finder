{
 "cells": [
  {
   "cell_type": "code",
   "execution_count": 1,
   "id": "660bfe00",
   "metadata": {},
   "outputs": [],
   "source": [
    "# Import necessary libraries\n",
    "import os\n",
    "import pandas as pd\n",
    "from astropy.coordinates import SkyCoord\n",
    "from astroquery.mast import Catalogs\n",
    "from astropy import units as u\n",
    "from tqdm import tqdm\n",
    "import glob\n",
    "import requests"
   ]
  },
  {
   "cell_type": "code",
   "execution_count": 2,
   "id": "3282af4c",
   "metadata": {},
   "outputs": [],
   "source": [
    "# Step 1.1: Extract SDSS DR18 LRG Samples using CasJobs\n",
    "# Data listed in dr18_lrg_sample.csv (Sample Size: 1,174,900)\n",
    "# Criteria : \n",
    "\n",
    "# SELECT\n",
    "  # s.specobjid,\n",
    "  # s.z AS redshift,                   \n",
    "  # s.veldisp,\n",
    "  # p.ra, p.dec, p.u, p.g, p.r, p.i, p.modelMag_r,\n",
    "  # s.programname, s.plate, s.fiberid, s.mjd into mydb.LRG_full_catalog from SpecObjAll AS s\n",
    "# JOIN PhotoObjAll AS p ON s.bestobjid = p.objid\n",
    "# WHERE\n",
    "  # s.class = 'GALAXY'\n",
    "  # AND s.z BETWEEN 0.1 AND 0.7\n",
    "  # AND s.veldisp > 0 AND s.veldisp < 500\n",
    "  # AND s.programname IN ('boss', 'eboss')\n",
    "  # AND (p.r - p.i) > 0.5\n",
    "  # AND (p.g - p.r) > 0.7\n",
    "  # AND p.modelMag_r BETWEEN 16 AND 21"
   ]
  },
  {
   "cell_type": "code",
   "execution_count": 4,
   "id": "cb9a387c",
   "metadata": {},
   "outputs": [
    {
     "name": "stdout",
     "output_type": "stream",
     "text": [
      "Batch 1 already done (found sdss_lrg_queried_objects\\sdss_lrg_ps1_matched_batch_1.csv), skipping...\n",
      "Batch 2 already done (found sdss_lrg_queried_objects\\sdss_lrg_ps1_matched_batch_2.csv), skipping...\n",
      "Batch 3 already done (found sdss_lrg_queried_objects\\sdss_lrg_ps1_matched_batch_3.csv), skipping...\n",
      "Batch 4 already done (found sdss_lrg_queried_objects\\sdss_lrg_ps1_matched_batch_4.csv), skipping...\n",
      "Batch 5 already done (found sdss_lrg_queried_objects\\sdss_lrg_ps1_matched_batch_5.csv), skipping...\n",
      "Batch 6 already done (found sdss_lrg_queried_objects\\sdss_lrg_ps1_matched_batch_6.csv), skipping...\n",
      "Batch 7 already done (found sdss_lrg_queried_objects\\sdss_lrg_ps1_matched_batch_7.csv), skipping...\n",
      "Batch 8 already done (found sdss_lrg_queried_objects\\sdss_lrg_ps1_matched_batch_8.csv), skipping...\n",
      "Batch 9 already done (found sdss_lrg_queried_objects\\sdss_lrg_ps1_matched_batch_9.csv), skipping...\n",
      "Batch 10 already done (found sdss_lrg_queried_objects\\sdss_lrg_ps1_matched_batch_10.csv), skipping...\n",
      "Batch 11 already done (found sdss_lrg_queried_objects\\sdss_lrg_ps1_matched_batch_11.csv), skipping...\n",
      "Batch 12 already done (found sdss_lrg_queried_objects\\sdss_lrg_ps1_matched_batch_12.csv), skipping...\n",
      "Batch 13 already done (found sdss_lrg_queried_objects\\sdss_lrg_ps1_matched_batch_13.csv), skipping...\n",
      "Batch 14 already done (found sdss_lrg_queried_objects\\sdss_lrg_ps1_matched_batch_14.csv), skipping...\n",
      "Batch 15 already done (found sdss_lrg_queried_objects\\sdss_lrg_ps1_matched_batch_15.csv), skipping...\n",
      "Batch 16 already done (found sdss_lrg_queried_objects\\sdss_lrg_ps1_matched_batch_16.csv), skipping...\n",
      "Batch 17 already done (found sdss_lrg_queried_objects\\sdss_lrg_ps1_matched_batch_17.csv), skipping...\n",
      "Batch 18 already done (found sdss_lrg_queried_objects\\sdss_lrg_ps1_matched_batch_18.csv), skipping...\n",
      "Batch 19 already done (found sdss_lrg_queried_objects\\sdss_lrg_ps1_matched_batch_19.csv), skipping...\n",
      "Batch 20 already done (found sdss_lrg_queried_objects\\sdss_lrg_ps1_matched_batch_20.csv), skipping...\n",
      "Batch 21 already done (found sdss_lrg_queried_objects\\sdss_lrg_ps1_matched_batch_21.csv), skipping...\n",
      "Batch 22 already done (found sdss_lrg_queried_objects\\sdss_lrg_ps1_matched_batch_22.csv), skipping...\n",
      "Batch 23 already done (found sdss_lrg_queried_objects\\sdss_lrg_ps1_matched_batch_23.csv), skipping...\n",
      "Batch 24 already done (found sdss_lrg_queried_objects\\sdss_lrg_ps1_matched_batch_24.csv), skipping...\n",
      "Batch 25 already done (found sdss_lrg_queried_objects\\sdss_lrg_ps1_matched_batch_25.csv), skipping...\n",
      "Batch 26 already done (found sdss_lrg_queried_objects\\sdss_lrg_ps1_matched_batch_26.csv), skipping...\n",
      "Batch 27 already done (found sdss_lrg_queried_objects\\sdss_lrg_ps1_matched_batch_27.csv), skipping...\n",
      "Batch 28 already done (found sdss_lrg_queried_objects\\sdss_lrg_ps1_matched_batch_28.csv), skipping...\n",
      "Batch 29 already done (found sdss_lrg_queried_objects\\sdss_lrg_ps1_matched_batch_29.csv), skipping...\n",
      "Batch 30 already done (found sdss_lrg_queried_objects\\sdss_lrg_ps1_matched_batch_30.csv), skipping...\n",
      "Batch 31 already done (found sdss_lrg_queried_objects\\sdss_lrg_ps1_matched_batch_31.csv), skipping...\n",
      "Batch 32 already done (found sdss_lrg_queried_objects\\sdss_lrg_ps1_matched_batch_32.csv), skipping...\n",
      "Batch 33 already done (found sdss_lrg_queried_objects\\sdss_lrg_ps1_matched_batch_33.csv), skipping...\n",
      "Batch 34 already done (found sdss_lrg_queried_objects\\sdss_lrg_ps1_matched_batch_34.csv), skipping...\n",
      "Batch 35 already done (found sdss_lrg_queried_objects\\sdss_lrg_ps1_matched_batch_35.csv), skipping...\n",
      "Batch 36 already done (found sdss_lrg_queried_objects\\sdss_lrg_ps1_matched_batch_36.csv), skipping...\n",
      "Batch 37 already done (found sdss_lrg_queried_objects\\sdss_lrg_ps1_matched_batch_37.csv), skipping...\n",
      "Batch 38 already done (found sdss_lrg_queried_objects\\sdss_lrg_ps1_matched_batch_38.csv), skipping...\n",
      "Batch 39 already done (found sdss_lrg_queried_objects\\sdss_lrg_ps1_matched_batch_39.csv), skipping...\n",
      "Batch 40 already done (found sdss_lrg_queried_objects\\sdss_lrg_ps1_matched_batch_40.csv), skipping...\n",
      "Batch 41 already done (found sdss_lrg_queried_objects\\sdss_lrg_ps1_matched_batch_41.csv), skipping...\n",
      "Batch 42 already done (found sdss_lrg_queried_objects\\sdss_lrg_ps1_matched_batch_42.csv), skipping...\n",
      "Batch 43 already done (found sdss_lrg_queried_objects\\sdss_lrg_ps1_matched_batch_43.csv), skipping...\n",
      "Batch 44 already done (found sdss_lrg_queried_objects\\sdss_lrg_ps1_matched_batch_44.csv), skipping...\n",
      "Batch 45 already done (found sdss_lrg_queried_objects\\sdss_lrg_ps1_matched_batch_45.csv), skipping...\n",
      "Batch 46 already done (found sdss_lrg_queried_objects\\sdss_lrg_ps1_matched_batch_46.csv), skipping...\n",
      "Batch 47 already done (found sdss_lrg_queried_objects\\sdss_lrg_ps1_matched_batch_47.csv), skipping...\n",
      "Batch 48 already done (found sdss_lrg_queried_objects\\sdss_lrg_ps1_matched_batch_48.csv), skipping...\n",
      "Batch 49 already done (found sdss_lrg_queried_objects\\sdss_lrg_ps1_matched_batch_49.csv), skipping...\n",
      "Batch 50 already done (found sdss_lrg_queried_objects\\sdss_lrg_ps1_matched_batch_50.csv), skipping...\n",
      "Batch 51 already done (found sdss_lrg_queried_objects\\sdss_lrg_ps1_matched_batch_51.csv), skipping...\n",
      "Batch 52 already done (found sdss_lrg_queried_objects\\sdss_lrg_ps1_matched_batch_52.csv), skipping...\n",
      "Batch 53 already done (found sdss_lrg_queried_objects\\sdss_lrg_ps1_matched_batch_53.csv), skipping...\n",
      "Batch 54 already done (found sdss_lrg_queried_objects\\sdss_lrg_ps1_matched_batch_54.csv), skipping...\n",
      "Batch 55 already done (found sdss_lrg_queried_objects\\sdss_lrg_ps1_matched_batch_55.csv), skipping...\n",
      "Batch 56 already done (found sdss_lrg_queried_objects\\sdss_lrg_ps1_matched_batch_56.csv), skipping...\n",
      "Batch 57 already done (found sdss_lrg_queried_objects\\sdss_lrg_ps1_matched_batch_57.csv), skipping...\n",
      "Batch 58 already done (found sdss_lrg_queried_objects\\sdss_lrg_ps1_matched_batch_58.csv), skipping...\n",
      "Batch 59 already done (found sdss_lrg_queried_objects\\sdss_lrg_ps1_matched_batch_59.csv), skipping...\n",
      "Batch 60 already done (found sdss_lrg_queried_objects\\sdss_lrg_ps1_matched_batch_60.csv), skipping...\n",
      "Batch 61 already done (found sdss_lrg_queried_objects\\sdss_lrg_ps1_matched_batch_61.csv), skipping...\n",
      "Batch 62 already done (found sdss_lrg_queried_objects\\sdss_lrg_ps1_matched_batch_62.csv), skipping...\n",
      "Batch 63 already done (found sdss_lrg_queried_objects\\sdss_lrg_ps1_matched_batch_63.csv), skipping...\n",
      "Batch 64 already done (found sdss_lrg_queried_objects\\sdss_lrg_ps1_matched_batch_64.csv), skipping...\n",
      "Batch 65 already done (found sdss_lrg_queried_objects\\sdss_lrg_ps1_matched_batch_65.csv), skipping...\n",
      "Batch 66 already done (found sdss_lrg_queried_objects\\sdss_lrg_ps1_matched_batch_66.csv), skipping...\n",
      "Batch 67 already done (found sdss_lrg_queried_objects\\sdss_lrg_ps1_matched_batch_67.csv), skipping...\n",
      "Batch 68 already done (found sdss_lrg_queried_objects\\sdss_lrg_ps1_matched_batch_68.csv), skipping...\n",
      "Batch 69 already done (found sdss_lrg_queried_objects\\sdss_lrg_ps1_matched_batch_69.csv), skipping...\n",
      "Batch 70 already done (found sdss_lrg_queried_objects\\sdss_lrg_ps1_matched_batch_70.csv), skipping...\n",
      "Batch 71 already done (found sdss_lrg_queried_objects\\sdss_lrg_ps1_matched_batch_71.csv), skipping...\n",
      "Batch 72 already done (found sdss_lrg_queried_objects\\sdss_lrg_ps1_matched_batch_72.csv), skipping...\n",
      "Batch 73 already done (found sdss_lrg_queried_objects\\sdss_lrg_ps1_matched_batch_73.csv), skipping...\n",
      "Batch 74 already done (found sdss_lrg_queried_objects\\sdss_lrg_ps1_matched_batch_74.csv), skipping...\n",
      "Batch 75 already done (found sdss_lrg_queried_objects\\sdss_lrg_ps1_matched_batch_75.csv), skipping...\n",
      "Batch 76 already done (found sdss_lrg_queried_objects\\sdss_lrg_ps1_matched_batch_76.csv), skipping...\n",
      "Batch 77 already done (found sdss_lrg_queried_objects\\sdss_lrg_ps1_matched_batch_77.csv), skipping...\n",
      "Batch 78 already done (found sdss_lrg_queried_objects\\sdss_lrg_ps1_matched_batch_78.csv), skipping...\n",
      "Batch 79 already done (found sdss_lrg_queried_objects\\sdss_lrg_ps1_matched_batch_79.csv), skipping...\n",
      "Batch 80 already done (found sdss_lrg_queried_objects\\sdss_lrg_ps1_matched_batch_80.csv), skipping...\n",
      "Batch 81 already done (found sdss_lrg_queried_objects\\sdss_lrg_ps1_matched_batch_81.csv), skipping...\n",
      "Batch 82 already done (found sdss_lrg_queried_objects\\sdss_lrg_ps1_matched_batch_82.csv), skipping...\n",
      "Batch 83 already done (found sdss_lrg_queried_objects\\sdss_lrg_ps1_matched_batch_83.csv), skipping...\n",
      "Batch 84 already done (found sdss_lrg_queried_objects\\sdss_lrg_ps1_matched_batch_84.csv), skipping...\n",
      "Batch 85 already done (found sdss_lrg_queried_objects\\sdss_lrg_ps1_matched_batch_85.csv), skipping...\n",
      "Batch 86 already done (found sdss_lrg_queried_objects\\sdss_lrg_ps1_matched_batch_86.csv), skipping...\n",
      "Batch 87 already done (found sdss_lrg_queried_objects\\sdss_lrg_ps1_matched_batch_87.csv), skipping...\n",
      "Batch 88 already done (found sdss_lrg_queried_objects\\sdss_lrg_ps1_matched_batch_88.csv), skipping...\n",
      "Batch 89 already done (found sdss_lrg_queried_objects\\sdss_lrg_ps1_matched_batch_89.csv), skipping...\n",
      "Batch 90 already done (found sdss_lrg_queried_objects\\sdss_lrg_ps1_matched_batch_90.csv), skipping...\n",
      "Batch 91 already done (found sdss_lrg_queried_objects\\sdss_lrg_ps1_matched_batch_91.csv), skipping...\n",
      "Batch 92 already done (found sdss_lrg_queried_objects\\sdss_lrg_ps1_matched_batch_92.csv), skipping...\n",
      "Batch 93 already done (found sdss_lrg_queried_objects\\sdss_lrg_ps1_matched_batch_93.csv), skipping...\n",
      "Batch 94 already done (found sdss_lrg_queried_objects\\sdss_lrg_ps1_matched_batch_94.csv), skipping...\n",
      "Batch 95 already done (found sdss_lrg_queried_objects\\sdss_lrg_ps1_matched_batch_95.csv), skipping...\n",
      "Batch 96 already done (found sdss_lrg_queried_objects\\sdss_lrg_ps1_matched_batch_96.csv), skipping...\n",
      "Batch 97 already done (found sdss_lrg_queried_objects\\sdss_lrg_ps1_matched_batch_97.csv), skipping...\n",
      "Batch 98 already done (found sdss_lrg_queried_objects\\sdss_lrg_ps1_matched_batch_98.csv), skipping...\n",
      "Batch 99 already done (found sdss_lrg_queried_objects\\sdss_lrg_ps1_matched_batch_99.csv), skipping...\n",
      "Batch 100 already done (found sdss_lrg_queried_objects\\sdss_lrg_ps1_matched_batch_100.csv), skipping...\n",
      "Batch 101 already done (found sdss_lrg_queried_objects\\sdss_lrg_ps1_matched_batch_101.csv), skipping...\n",
      "Batch 102 already done (found sdss_lrg_queried_objects\\sdss_lrg_ps1_matched_batch_102.csv), skipping...\n",
      "Batch 103 already done (found sdss_lrg_queried_objects\\sdss_lrg_ps1_matched_batch_103.csv), skipping...\n",
      "Batch 104 already done (found sdss_lrg_queried_objects\\sdss_lrg_ps1_matched_batch_104.csv), skipping...\n",
      "Batch 105 already done (found sdss_lrg_queried_objects\\sdss_lrg_ps1_matched_batch_105.csv), skipping...\n",
      "Batch 106 already done (found sdss_lrg_queried_objects\\sdss_lrg_ps1_matched_batch_106.csv), skipping...\n",
      "Batch 107 already done (found sdss_lrg_queried_objects\\sdss_lrg_ps1_matched_batch_107.csv), skipping...\n",
      "Batch 108 already done (found sdss_lrg_queried_objects\\sdss_lrg_ps1_matched_batch_108.csv), skipping...\n",
      "Batch 109 already done (found sdss_lrg_queried_objects\\sdss_lrg_ps1_matched_batch_109.csv), skipping...\n",
      "Batch 110 already done (found sdss_lrg_queried_objects\\sdss_lrg_ps1_matched_batch_110.csv), skipping...\n",
      "Batch 111 already done (found sdss_lrg_queried_objects\\sdss_lrg_ps1_matched_batch_111.csv), skipping...\n",
      "\n",
      "Processing batch 112 (1110000 to 1119999)...\n"
     ]
    },
    {
     "name": "stderr",
     "output_type": "stream",
     "text": [
      " 28%|██▊       | 2837/10000 [04:11<10:57, 10.90it/s]WARNING: NoResultsWarning: Query returned no results. [astroquery.mast.services]\n",
      "100%|██████████| 10000/10000 [14:27<00:00, 11.52it/s]\n"
     ]
    },
    {
     "name": "stdout",
     "output_type": "stream",
     "text": [
      "Filtered from 10000 → 9997 rows with ≥ 2 PS1 bands\n",
      "Saved filtered batch 112 to sdss_lrg_queried_objects\\sdss_lrg_ps1_matched_batch_112.csv\n",
      "\n",
      "Processing batch 113 (1120000 to 1129999)...\n"
     ]
    },
    {
     "name": "stderr",
     "output_type": "stream",
     "text": [
      " 41%|████      | 4104/10000 [05:48<08:29, 11.56it/s]WARNING: NoResultsWarning: Query returned no results. [astroquery.mast.services]\n",
      "100%|██████████| 10000/10000 [14:12<00:00, 11.74it/s]\n"
     ]
    },
    {
     "name": "stdout",
     "output_type": "stream",
     "text": [
      "Filtered from 10000 → 9997 rows with ≥ 2 PS1 bands\n",
      "Saved filtered batch 113 to sdss_lrg_queried_objects\\sdss_lrg_ps1_matched_batch_113.csv\n",
      "\n",
      "Processing batch 114 (1130000 to 1139999)...\n"
     ]
    },
    {
     "name": "stderr",
     "output_type": "stream",
     "text": [
      "100%|██████████| 10000/10000 [14:27<00:00, 11.52it/s]\n"
     ]
    },
    {
     "name": "stdout",
     "output_type": "stream",
     "text": [
      "Filtered from 10000 → 10000 rows with ≥ 2 PS1 bands\n",
      "Saved filtered batch 114 to sdss_lrg_queried_objects\\sdss_lrg_ps1_matched_batch_114.csv\n",
      "\n",
      "Processing batch 115 (1140000 to 1149999)...\n"
     ]
    },
    {
     "name": "stderr",
     "output_type": "stream",
     "text": [
      " 21%|██▏       | 2135/10000 [03:05<11:20, 11.56it/s] WARNING: NoResultsWarning: Query returned no results. [astroquery.mast.services]\n",
      "100%|██████████| 10000/10000 [14:09<00:00, 11.77it/s]\n"
     ]
    },
    {
     "name": "stdout",
     "output_type": "stream",
     "text": [
      "Filtered from 10000 → 9995 rows with ≥ 2 PS1 bands\n",
      "Saved filtered batch 115 to sdss_lrg_queried_objects\\sdss_lrg_ps1_matched_batch_115.csv\n",
      "\n",
      "Processing batch 116 (1150000 to 1159999)...\n"
     ]
    },
    {
     "name": "stderr",
     "output_type": "stream",
     "text": [
      " 34%|███▍      | 3404/10000 [04:43<09:09, 12.01it/s]WARNING: NoResultsWarning: Query returned no results. [astroquery.mast.services]\n",
      "100%|██████████| 10000/10000 [13:55<00:00, 11.97it/s]\n"
     ]
    },
    {
     "name": "stdout",
     "output_type": "stream",
     "text": [
      "Filtered from 10000 → 9990 rows with ≥ 2 PS1 bands\n",
      "Saved filtered batch 116 to sdss_lrg_queried_objects\\sdss_lrg_ps1_matched_batch_116.csv\n",
      "\n",
      "Processing batch 117 (1160000 to 1169999)...\n"
     ]
    },
    {
     "name": "stderr",
     "output_type": "stream",
     "text": [
      " 19%|█▉        | 1876/10000 [02:42<11:41, 11.58it/s]WARNING: NoResultsWarning: Query returned no results. [astroquery.mast.services]\n",
      "100%|██████████| 10000/10000 [14:02<00:00, 11.87it/s]\n"
     ]
    },
    {
     "name": "stdout",
     "output_type": "stream",
     "text": [
      "Filtered from 10000 → 9998 rows with ≥ 2 PS1 bands\n",
      "Saved filtered batch 117 to sdss_lrg_queried_objects\\sdss_lrg_ps1_matched_batch_117.csv\n",
      "\n",
      "Processing batch 118 (1170000 to 1174899)...\n"
     ]
    },
    {
     "name": "stderr",
     "output_type": "stream",
     "text": [
      " 63%|██████▎   | 3063/4900 [04:17<02:38, 11.60it/s]WARNING: NoResultsWarning: Query returned no results. [astroquery.mast.services]\n",
      "100%|██████████| 4900/4900 [06:50<00:00, 11.93it/s]"
     ]
    },
    {
     "name": "stdout",
     "output_type": "stream",
     "text": [
      "Filtered from 4900 → 4899 rows with ≥ 2 PS1 bands\n",
      "Saved filtered batch 118 to sdss_lrg_queried_objects\\sdss_lrg_ps1_matched_batch_118.csv\n",
      "\n",
      "All batches processed!\n"
     ]
    },
    {
     "name": "stderr",
     "output_type": "stream",
     "text": [
      "\n"
     ]
    }
   ],
   "source": [
    "BATCH_SIZE = 10000\n",
    "INPUT_CSV = \"sdss_dr18_lrg_sample.csv\"\n",
    "OUTPUT_CSV_TEMPLATE = \"sdss_lrg_ps1_matched_batch_{batch_num}.csv\"\n",
    "OUTPUT_FOLDER = \"sdss_lrg_queried_objects\"\n",
    "\n",
    "df = pd.read_csv(INPUT_CSV)\n",
    "n_objects = len(df)\n",
    "\n",
    "def query_ps1_batch(batch_df):\n",
    "    g_mag, r_mag, i_mag = [], [], []\n",
    "    g_depth, r_depth, i_depth = [], [], []\n",
    "    g_fwhm, r_fwhm, i_fwhm = [], [], []\n",
    "\n",
    "    for _, row in tqdm(batch_df.iterrows(), total=len(batch_df)):\n",
    "        try:\n",
    "            coord = SkyCoord(ra=row['ra'], dec=row['dec'], unit='deg', frame='icrs')\n",
    "            result = Catalogs.query_region(coord, radius=2.5 * u.arcsec, catalog='PanSTARRS', data_release='dr2')\n",
    "            if len(result) > 0:\n",
    "                best = result[0]\n",
    "                g_mag.append(best.get('gMeanPSFMag'))\n",
    "                r_mag.append(best.get('rMeanPSFMag'))\n",
    "                i_mag.append(best.get('iMeanPSFMag'))\n",
    "\n",
    "                g_depth.append(best.get('gMeanDepth'))\n",
    "                r_depth.append(best.get('rMeanDepth'))\n",
    "                i_depth.append(best.get('iMeanDepth'))\n",
    "\n",
    "                g_fwhm.append(best.get('gFWHM'))\n",
    "                r_fwhm.append(best.get('rFWHM'))\n",
    "                i_fwhm.append(best.get('iFWHM'))\n",
    "            else:\n",
    "                g_mag.append(None)\n",
    "                r_mag.append(None)\n",
    "                i_mag.append(None)\n",
    "                g_depth.append(None)\n",
    "                r_depth.append(None)\n",
    "                i_depth.append(None)\n",
    "                g_fwhm.append(None)\n",
    "                r_fwhm.append(None)\n",
    "                i_fwhm.append(None)\n",
    "        except Exception:\n",
    "            g_mag.append(None)\n",
    "            r_mag.append(None)\n",
    "            i_mag.append(None)\n",
    "            g_depth.append(None)\n",
    "            r_depth.append(None)\n",
    "            i_depth.append(None)\n",
    "            g_fwhm.append(None)\n",
    "            r_fwhm.append(None)\n",
    "            i_fwhm.append(None)\n",
    "\n",
    "    batch_df['ps1_g_mag'] = g_mag\n",
    "    batch_df['ps1_r_mag'] = r_mag\n",
    "    batch_df['ps1_i_mag'] = i_mag\n",
    "    batch_df['ps1_g_depth'] = g_depth\n",
    "    batch_df['ps1_r_depth'] = r_depth\n",
    "    batch_df['ps1_i_depth'] = i_depth\n",
    "    batch_df['ps1_g_fwhm'] = g_fwhm\n",
    "    batch_df['ps1_r_fwhm'] = r_fwhm\n",
    "    batch_df['ps1_i_fwhm'] = i_fwhm\n",
    "\n",
    "    # Filter: keep only rows with at least 2 non-null PS1 magnitudes\n",
    "    mask = (\n",
    "        batch_df[['ps1_g_mag', 'ps1_r_mag', 'ps1_i_mag']]\n",
    "        .notnull()\n",
    "        .sum(axis=1) >= 2\n",
    "    )\n",
    "    filtered_df = batch_df[mask].reset_index(drop=True)\n",
    "    print(f\"Filtered from {len(batch_df)} → {len(filtered_df)} rows with ≥ 2 PS1 bands\")\n",
    "    return filtered_df\n",
    "\n",
    "for i in range(0, n_objects, BATCH_SIZE):\n",
    "    batch_num = i // BATCH_SIZE + 1\n",
    "    output_file = os.path.join(OUTPUT_FOLDER, OUTPUT_CSV_TEMPLATE.format(batch_num=batch_num))\n",
    "    \n",
    "    if os.path.exists(output_file):\n",
    "        print(f\"Batch {batch_num} already done (found {output_file}), skipping...\")\n",
    "        continue\n",
    "\n",
    "    batch_df = df.iloc[i:i+BATCH_SIZE].copy()\n",
    "    print(f\"\\nProcessing batch {batch_num} ({i} to {i + len(batch_df) - 1})...\")\n",
    "    filtered_df = query_ps1_batch(batch_df)\n",
    "    os.makedirs(OUTPUT_FOLDER, exist_ok=True)\n",
    "    filtered_df.to_csv(output_file, index=False)\n",
    "    print(f\"Saved filtered batch {batch_num} to {output_file}\")\n",
    "\n",
    "print(\"\\nAll batches processed!\")"
   ]
  }
 ],
 "metadata": {
  "kernelspec": {
   "display_name": "Python 3",
   "language": "python",
   "name": "python3"
  },
  "language_info": {
   "codemirror_mode": {
    "name": "ipython",
    "version": 3
   },
   "file_extension": ".py",
   "mimetype": "text/x-python",
   "name": "python",
   "nbconvert_exporter": "python",
   "pygments_lexer": "ipython3",
   "version": "3.10.11"
  }
 },
 "nbformat": 4,
 "nbformat_minor": 5
}
